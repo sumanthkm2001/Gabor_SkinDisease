{
 "cells": [
  {
   "cell_type": "markdown",
   "metadata": {},
   "source": [
    "## Libraries Importing"
   ]
  },
  {
   "cell_type": "code",
   "execution_count": 1,
   "metadata": {},
   "outputs": [],
   "source": [
    "import os\n",
    "import shutil #recursively moves a file from src to dest and vice versa\n",
    "import cv2 as cv \n",
    "import numpy as np\n",
    "from tensorflow.keras import utils"
   ]
  },
  {
   "cell_type": "code",
   "execution_count": 2,
   "metadata": {},
   "outputs": [],
   "source": [
    "def create_dir(in_dir, out_dir, gdir_1):\n",
    "    for label in os.listdir(path= in_dir):\n",
    "        if not os.path.exists(os.path.join(out_dir, gdir_1, label)):\n",
    "            os.makedirs(os.path.join(out_dir, gdir_1, label))"
   ]
  },
  {
   "cell_type": "code",
   "execution_count": 3,
   "metadata": {},
   "outputs": [],
   "source": [
    "def preprocess_train_images(in_dir = 'input/train', out_dir= 'processed'):\n",
    "    gdir_1 = 'gabor_trin_images'\n",
    "    \n",
    "    create_dir(in_dir, out_dir, gdir_1)\n",
    "    \n",
    "    for label in os.listdir(path= in_dir):\n",
    "        print('Processing started for : ',label)\n",
    "        for image_name in os.listdir(os.path.join(in_dir,label)):\n",
    "            if not image_name.endswith('.db'):\n",
    "                in_path = os.path.join(in_dir, label, image_name)\n",
    "                out_path = os.path.join(out_dir, gdir_1, label, image_name) #path of gabor1\n",
    "                img = cv.imread(in_path,0) #reading image \n",
    "                gabor_train = cv.getGaborKernel((18, 18), 1.5, np.pi/4, 5.0, 1.5, 0, ktype=cv.CV_32F) #initialising the parameters of gabor filter \n",
    "                filtered_img_train = cv.filter2D(img, cv.CV_8UC3, gabor_train) # applying gabor filter\n",
    "                cv.imwrite(out_path, filtered_img_train) #writing filtered image in out_oath\n",
    "        print('------ Processing done ------')"
   ]
  },
  {
   "cell_type": "code",
   "execution_count": 4,
   "metadata": {},
   "outputs": [],
   "source": [
    "def preprocess_test_images(in_dir = 'input/test', out_dir= 'processed'):\n",
    "    gdir_1 = 'gabor_test_images'\n",
    "    \n",
    "    create_dir(in_dir, out_dir, gdir_1)\n",
    "    \n",
    "    for label in os.listdir(path= in_dir):\n",
    "        print('Processing started for : ',label)\n",
    "        for image_name in os.listdir(os.path.join(in_dir,label)):\n",
    "            if not image_name.endswith('.db'):\n",
    "                in_path = os.path.join(in_dir, label, image_name)\n",
    "                out_path = os.path.join(out_dir, gdir_1, label, image_name) #path of gabor1\n",
    "                img = cv.imread(in_path,0) #reading image \n",
    "                gabor_test = cv.getGaborKernel((18, 18), 1.5, np.pi/4, 5.0, 1.5, 0, ktype=cv.CV_32F) #initialising the parameters of gabor filter \n",
    "                filtered_img_test = cv.filter2D(img, cv.CV_8UC3, gabor_test) # applying gabor filter\n",
    "                cv.imwrite(out_path, filtered_img_test) #writing filtered image in out_oath\n",
    "        print('------ Processing done ------')"
   ]
  },
  {
   "cell_type": "code",
   "execution_count": 5,
   "metadata": {
    "scrolled": false
   },
   "outputs": [
    {
     "name": "stdout",
     "output_type": "stream",
     "text": [
      "Processing started for :  Acne\n",
      "------ Processing done ------\n",
      "Processing started for :  benign\n",
      "------ Processing done ------\n",
      "Processing started for :  Dermatitis\n",
      "------ Processing done ------\n",
      "Processing started for :  Eczema\n",
      "------ Processing done ------\n"
     ]
    }
   ],
   "source": [
    "preprocess_train_images()"
   ]
  },
  {
   "cell_type": "code",
   "execution_count": 6,
   "metadata": {},
   "outputs": [
    {
     "name": "stdout",
     "output_type": "stream",
     "text": [
      "Processing started for :  Acne\n",
      "------ Processing done ------\n",
      "Processing started for :  benign\n",
      "------ Processing done ------\n",
      "Processing started for :  Dermatitis\n",
      "------ Processing done ------\n",
      "Processing started for :  Eczema\n",
      "------ Processing done ------\n"
     ]
    }
   ],
   "source": [
    "preprocess_test_images()"
   ]
  },
  {
   "cell_type": "markdown",
   "metadata": {},
   "source": [
    "## Train Dataset Preprocessing"
   ]
  },
  {
   "cell_type": "code",
   "execution_count": 7,
   "metadata": {},
   "outputs": [
    {
     "name": "stdout",
     "output_type": "stream",
     "text": [
      "input_dir : processed\\gabor_trin_images\n"
     ]
    }
   ],
   "source": [
    "input_dir = os.path.join('processed', 'gabor_trin_images')\n",
    "print('input_dir :', input_dir)"
   ]
  },
  {
   "cell_type": "code",
   "execution_count": 8,
   "metadata": {},
   "outputs": [
    {
     "name": "stdout",
     "output_type": "stream",
     "text": [
      "Class labels :  ['Acne', 'benign', 'Dermatitis', 'Eczema']\n",
      "Acne 115\n",
      "benign 300\n",
      "Dermatitis 140\n",
      "Eczema 257\n",
      "------------------------------\n",
      "Total no of samples:  812\n",
      "------------------------------\n"
     ]
    }
   ],
   "source": [
    "no_samples = 0\n",
    "labels = os.listdir(input_dir)\n",
    "print('Class labels : ', labels)\n",
    "\n",
    "for label in labels:\n",
    "    total = len(os.listdir(os.path.join(input_dir, label)))\n",
    "    print(label, total)\n",
    "    no_samples +=total\n",
    "print('-'*30)\n",
    "print('Total no of samples: ',no_samples)\n",
    "print('-'*30)"
   ]
  },
  {
   "cell_type": "code",
   "execution_count": 9,
   "metadata": {},
   "outputs": [],
   "source": [
    "img_rows = 256\n",
    "img_cols = 256\n",
    "channels = 3"
   ]
  },
  {
   "cell_type": "code",
   "execution_count": 10,
   "metadata": {},
   "outputs": [],
   "source": [
    "def load_data_train(input_dir, no_samples, labels):\n",
    "    \n",
    "    images = np.ndarray((no_samples, img_rows, img_cols, channels), dtype = np.float32)\n",
    "    targets = np.zeros((no_samples,), dtype = np.uint8)\n",
    "    \n",
    "    i = 0\n",
    "    print('-'*30)\n",
    "    print('Loading training images...')\n",
    "    print('-'*30)\n",
    "    \n",
    "    for j, label in enumerate(labels):\n",
    "        image_names = os.listdir(os.path.join(input_dir, label))\n",
    "        total = len(image_names)\n",
    "        print(label, total)\n",
    "        for image_name in image_names:\n",
    "            img = cv.imread(os.path.join(input_dir, label, image_name), 1)\n",
    "            img = np.array(cv.resize(img, (img_rows, img_cols)))\n",
    "            \n",
    "            images[i] = np.reshape(a= img, newshape= (img_rows, img_cols, channels))\n",
    "            targets[i] = j\n",
    "            \n",
    "            i += 1\n",
    "    print('Loading done.')\n",
    "    \n",
    "    targets = utils.to_categorical(y= targets, num_classes= len(labels))\n",
    "    \n",
    "    return images, targets"
   ]
  },
  {
   "cell_type": "code",
   "execution_count": 11,
   "metadata": {},
   "outputs": [
    {
     "name": "stdout",
     "output_type": "stream",
     "text": [
      "------------------------------\n",
      "Loading training images...\n",
      "------------------------------\n",
      "Acne 115\n",
      "benign 300\n"
     ]
    },
    {
     "ename": "error",
     "evalue": "OpenCV(4.6.0) D:\\a\\opencv-python\\opencv-python\\opencv\\modules\\core\\src\\alloc.cpp:73: error: (-4:Insufficient memory) Failed to allocate 2351622 bytes in function 'cv::OutOfMemoryError'\n",
     "output_type": "error",
     "traceback": [
      "\u001b[1;31m---------------------------------------------------------------------------\u001b[0m",
      "\u001b[1;31merror\u001b[0m                                     Traceback (most recent call last)",
      "Input \u001b[1;32mIn [11]\u001b[0m, in \u001b[0;36m<cell line: 1>\u001b[1;34m()\u001b[0m\n\u001b[1;32m----> 1\u001b[0m X, Y \u001b[38;5;241m=\u001b[39m \u001b[43mload_data_train\u001b[49m\u001b[43m(\u001b[49m\u001b[43minput_dir\u001b[49m\u001b[43m,\u001b[49m\u001b[43m \u001b[49m\u001b[43mno_samples\u001b[49m\u001b[43m,\u001b[49m\u001b[43m \u001b[49m\u001b[43mlabels\u001b[49m\u001b[43m)\u001b[49m\n",
      "Input \u001b[1;32mIn [10]\u001b[0m, in \u001b[0;36mload_data_train\u001b[1;34m(input_dir, no_samples, labels)\u001b[0m\n\u001b[0;32m     14\u001b[0m \u001b[38;5;28mprint\u001b[39m(label, total)\n\u001b[0;32m     15\u001b[0m \u001b[38;5;28;01mfor\u001b[39;00m image_name \u001b[38;5;129;01min\u001b[39;00m image_names:\n\u001b[1;32m---> 16\u001b[0m     img \u001b[38;5;241m=\u001b[39m \u001b[43mcv\u001b[49m\u001b[38;5;241;43m.\u001b[39;49m\u001b[43mimread\u001b[49m\u001b[43m(\u001b[49m\u001b[43mos\u001b[49m\u001b[38;5;241;43m.\u001b[39;49m\u001b[43mpath\u001b[49m\u001b[38;5;241;43m.\u001b[39;49m\u001b[43mjoin\u001b[49m\u001b[43m(\u001b[49m\u001b[43minput_dir\u001b[49m\u001b[43m,\u001b[49m\u001b[43m \u001b[49m\u001b[43mlabel\u001b[49m\u001b[43m,\u001b[49m\u001b[43m \u001b[49m\u001b[43mimage_name\u001b[49m\u001b[43m)\u001b[49m\u001b[43m,\u001b[49m\u001b[43m \u001b[49m\u001b[38;5;241;43m1\u001b[39;49m\u001b[43m)\u001b[49m\n\u001b[0;32m     17\u001b[0m     img \u001b[38;5;241m=\u001b[39m np\u001b[38;5;241m.\u001b[39marray(cv\u001b[38;5;241m.\u001b[39mresize(img, (img_rows, img_cols)))\n\u001b[0;32m     19\u001b[0m     images[i] \u001b[38;5;241m=\u001b[39m np\u001b[38;5;241m.\u001b[39mreshape(a\u001b[38;5;241m=\u001b[39m img, newshape\u001b[38;5;241m=\u001b[39m (img_rows, img_cols, channels))\n",
      "\u001b[1;31merror\u001b[0m: OpenCV(4.6.0) D:\\a\\opencv-python\\opencv-python\\opencv\\modules\\core\\src\\alloc.cpp:73: error: (-4:Insufficient memory) Failed to allocate 2351622 bytes in function 'cv::OutOfMemoryError'\n"
     ]
    }
   ],
   "source": [
    "X, Y = load_data_train(input_dir, no_samples, labels)"
   ]
  },
  {
   "cell_type": "code",
   "execution_count": null,
   "metadata": {},
   "outputs": [],
   "source": [
    "print(X.shape, Y.shape)"
   ]
  },
  {
   "cell_type": "code",
   "execution_count": null,
   "metadata": {},
   "outputs": [],
   "source": [
    "np.savez(file= 'GaborDataset/train_data', x= X, y= Y)"
   ]
  },
  {
   "cell_type": "markdown",
   "metadata": {},
   "source": [
    "## Test Dataset"
   ]
  },
  {
   "cell_type": "code",
   "execution_count": null,
   "metadata": {},
   "outputs": [],
   "source": [
    "input_dir = os.path.join('processed', 'gabor_test_images')\n",
    "print('input_dir :', input_dir)"
   ]
  },
  {
   "cell_type": "code",
   "execution_count": null,
   "metadata": {},
   "outputs": [],
   "source": [
    "no_samples = 0\n",
    "labels = os.listdir(input_dir)\n",
    "print('Class labels : ', labels)\n",
    "\n",
    "for label in labels:\n",
    "    total = len(os.listdir(os.path.join(input_dir, label)))\n",
    "    print(label, total)\n",
    "    no_samples +=total\n",
    "print('-'*30)\n",
    "print('Total no of samples: ',no_samples)\n",
    "print('-'*30)"
   ]
  },
  {
   "cell_type": "code",
   "execution_count": null,
   "metadata": {},
   "outputs": [],
   "source": [
    "def load_data_test(input_dir, no_samples, labels):\n",
    "    \n",
    "    images = np.ndarray((no_samples, img_rows, img_cols, channels), dtype = np.float32)\n",
    "    targets = np.zeros((no_samples,), dtype = np.uint8)\n",
    "    \n",
    "    i = 0\n",
    "    print('-'*30)\n",
    "    print('Loading testing images...')\n",
    "    print('-'*30)\n",
    "    \n",
    "    for j, label in enumerate(labels):\n",
    "        image_names = os.listdir(os.path.join(input_dir, label))\n",
    "        total = len(image_names)\n",
    "        print(label, total)\n",
    "        for image_name in image_names:\n",
    "            img = cv.imread(os.path.join(input_dir, label, image_name), 1)\n",
    "            img = np.array(cv.resize(img, (img_rows, img_cols)))\n",
    "            \n",
    "            images[i] = np.reshape(a= img, newshape= (img_rows, img_cols, channels))\n",
    "            targets[i] = j\n",
    "            \n",
    "            i += 1\n",
    "    print('Loading done.')\n",
    "    \n",
    "    targets = utils.to_categorical(y= targets, num_classes= len(labels))\n",
    "    \n",
    "    return images, targets"
   ]
  },
  {
   "cell_type": "code",
   "execution_count": null,
   "metadata": {},
   "outputs": [],
   "source": [
    "images, labels = load_data_test(input_dir, no_samples, labels)"
   ]
  },
  {
   "cell_type": "code",
   "execution_count": null,
   "metadata": {},
   "outputs": [],
   "source": [
    "print(images.shape, labels.shape)"
   ]
  },
  {
   "cell_type": "code",
   "execution_count": null,
   "metadata": {},
   "outputs": [],
   "source": [
    "np.savez(file= 'GaborDataset/test_data', x= images, y= labels)"
   ]
  },
  {
   "cell_type": "markdown",
   "metadata": {},
   "source": [
    "# Done"
   ]
  },
  {
   "cell_type": "code",
   "execution_count": null,
   "metadata": {},
   "outputs": [],
   "source": []
  },
  {
   "cell_type": "code",
   "execution_count": null,
   "metadata": {},
   "outputs": [],
   "source": []
  },
  {
   "cell_type": "code",
   "execution_count": null,
   "metadata": {},
   "outputs": [],
   "source": []
  }
 ],
 "metadata": {
  "kernelspec": {
   "display_name": "Python 3 (ipykernel)",
   "language": "python",
   "name": "python3"
  },
  "language_info": {
   "codemirror_mode": {
    "name": "ipython",
    "version": 3
   },
   "file_extension": ".py",
   "mimetype": "text/x-python",
   "name": "python",
   "nbconvert_exporter": "python",
   "pygments_lexer": "ipython3",
   "version": "3.10.9"
  }
 },
 "nbformat": 4,
 "nbformat_minor": 2
}
